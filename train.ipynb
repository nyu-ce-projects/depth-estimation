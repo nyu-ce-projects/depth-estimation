{
 "cells": [
  {
   "cell_type": "code",
   "execution_count": 1,
   "metadata": {},
   "outputs": [],
   "source": [
    "#!pip3 install torch torchvision torchaudio --extra-index-url https://download.pytorch.org/whl/cu113"
   ]
  },
  {
   "cell_type": "code",
   "execution_count": 2,
   "metadata": {},
   "outputs": [],
   "source": [
    "#!pip install tensorboardX\n",
    "#!pip install scikit-image"
   ]
  },
  {
   "cell_type": "code",
   "execution_count": 3,
   "metadata": {},
   "outputs": [],
   "source": [
    "import os\n",
    "import time\n",
    "import numpy as np\n",
    "\n",
    "import torch\n",
    "import torch.nn.functional as F\n",
    "import torch.optim as optim\n",
    "from torch.utils.data import DataLoader\n",
    "from tensorboardX import SummaryWriter\n",
    "\n",
    "from utils import secondsToHM"
   ]
  },
  {
   "cell_type": "code",
   "execution_count": 5,
   "metadata": {},
   "outputs": [
    {
     "name": "stdout",
     "output_type": "stream",
     "text": [
      "cuda\n"
     ]
    },
    {
     "name": "stderr",
     "output_type": "stream",
     "text": [
      "/home/mp6021/.local/lib/python3.8/site-packages/torchvision/transforms/transforms.py:332: UserWarning: Argument interpolation should be of type InterpolationMode instead of int. Please, use InterpolationMode enum.\n",
      "  warnings.warn(\n"
     ]
    }
   ],
   "source": [
    "t = Trainer()"
   ]
  },
  {
   "cell_type": "code",
   "execution_count": null,
   "metadata": {},
   "outputs": [
    {
     "name": "stdout",
     "output_type": "stream",
     "text": [
      "Total Trainable Parameters : 36867202\n",
      "Total Steps : 33160\n",
      "Training --- Epoch : 0\n"
     ]
    },
    {
     "name": "stderr",
     "output_type": "stream",
     "text": [
      "/home/mp6021/.local/lib/python3.8/site-packages/torch/optim/lr_scheduler.py:131: UserWarning: Detected call of `lr_scheduler.step()` before `optimizer.step()`. In PyTorch 1.1.0 and later, you should call them in the opposite order: `optimizer.step()` before `lr_scheduler.step()`.  Failure to do this will result in PyTorch skipping the first value of the learning rate schedule. See more details at https://pytorch.org/docs/stable/optim.html#how-to-adjust-learning-rate\n",
      "  warnings.warn(\"Detected call of `lr_scheduler.step()` before `optimizer.step()`. \"\n",
      "/home/mp6021/.local/lib/python3.8/site-packages/torch/nn/functional.py:4193: UserWarning: Default grid_sample and affine_grid behavior has changed to align_corners=False since 1.3.0. Please specify align_corners=True if the old behavior is desired. See the documentation of grid_sample for details.\n",
      "  warnings.warn(\n"
     ]
    },
    {
     "name": "stdout",
     "output_type": "stream",
     "text": [
      "Epoch :   0 | Batch :       0, examples/s:  25.3, loss : 0.15857, time elapsed: 00h00m14s, time left: 00h00m00s\n",
      "Epoch :   0 | Batch :     200, examples/s:  28.3, loss : 0.13839, time elapsed: 00h04m41s, time left: 12h53m02s\n",
      "Epoch :   0 | Batch :     400, examples/s:  28.4, loss : 0.14211, time elapsed: 00h09m04s, time left: 12h23m23s\n",
      "Epoch :   0 | Batch :     600, examples/s:  28.4, loss : 0.13533, time elapsed: 00h13m37s, time left: 12h19m10s\n",
      "Epoch :   0 | Batch :     800, examples/s:  28.3, loss : 0.13588, time elapsed: 00h18m02s, time left: 12h09m29s\n",
      "Epoch :   0 | Batch :    1000, examples/s:  28.3, loss : 0.12581, time elapsed: 00h22m27s, time left: 12h02m22s\n",
      "Epoch :   0 | Batch :    1200, examples/s:  28.3, loss : 0.12823, time elapsed: 00h26m48s, time left: 11h53m52s\n",
      "Epoch :   0 | Batch :    1400, examples/s:  28.3, loss : 0.13625, time elapsed: 00h31m13s, time left: 11h48m21s\n",
      "Epoch :   0 | Batch :    1600, examples/s:  28.3, loss : 0.12785, time elapsed: 00h35m42s, time left: 11h44m28s\n",
      "Training --- Epoch : 1\n",
      "Epoch :   1 | Batch :       0, examples/s:  27.2, loss : 0.13342, time elapsed: 00h37m11s, time left: 11h46m42s\n",
      "Epoch :   1 | Batch :     200, examples/s:  28.4, loss : 0.12997, time elapsed: 00h41m39s, time left: 11h41m43s\n",
      "Epoch :   1 | Batch :     342, examples/s:  28.3, loss : 0.12288, time elapsed: 00h44m45s, time left: 11h37m16s\n",
      "Epoch :   1 | Batch :    1342, examples/s:  28.3, loss : 0.12907, time elapsed: 01h06m43s, time left: 11h10m43s\n",
      "Training --- Epoch : 2\n",
      "Epoch :   2 | Batch :     684, examples/s:  27.0, loss : 0.10826, time elapsed: 01h28m59s, time left: 10h48m42s\n",
      "Training --- Epoch : 3\n",
      "Epoch :   3 | Batch :      26, examples/s:  28.3, loss : 0.11330, time elapsed: 01h51m31s, time left: 10h28m05s\n",
      "Epoch :   3 | Batch :    1026, examples/s:  28.3, loss : 0.10771, time elapsed: 02h14m22s, time left: 10h08m14s\n",
      "Training --- Epoch : 4\n",
      "Epoch :   4 | Batch :     368, examples/s:  28.4, loss : 0.10967, time elapsed: 02h36m51s, time left: 09h46m13s\n",
      "Epoch :   4 | Batch :    1368, examples/s:  28.3, loss : 0.12101, time elapsed: 02h59m07s, time left: 09h23m21s\n",
      "Training --- Epoch : 5\n",
      "Epoch :   5 | Batch :     710, examples/s:  28.3, loss : 0.10586, time elapsed: 03h21m29s, time left: 09h00m52s\n",
      "Training --- Epoch : 6\n",
      "Epoch :   6 | Batch :      52, examples/s:  28.3, loss : 0.09830, time elapsed: 03h43m47s, time left: 08h38m18s\n",
      "Epoch :   6 | Batch :    1052, examples/s:  28.4, loss : 0.10466, time elapsed: 04h05m55s, time left: 08h15m25s\n",
      "Training --- Epoch : 7\n",
      "Epoch :   7 | Batch :     394, examples/s:  28.3, loss : 0.10752, time elapsed: 04h28m07s, time left: 07h52m48s\n",
      "Epoch :   7 | Batch :    1394, examples/s:  28.4, loss : 0.09247, time elapsed: 04h49m42s, time left: 07h29m16s\n",
      "Training --- Epoch : 8\n",
      "Epoch :   8 | Batch :     736, examples/s:  28.3, loss : 0.09719, time elapsed: 05h12m29s, time left: 07h07m40s\n",
      "Training --- Epoch : 9\n",
      "Epoch :   9 | Batch :      78, examples/s:  28.3, loss : 0.09155, time elapsed: 05h36m26s, time left: 06h47m18s\n",
      "Epoch :   9 | Batch :    1078, examples/s:  28.3, loss : 0.10357, time elapsed: 05h59m15s, time left: 06h25m18s\n",
      "Training --- Epoch : 10\n",
      "Epoch :  10 | Batch :     420, examples/s:  28.3, loss : 0.10807, time elapsed: 06h22m14s, time left: 06h03m21s\n",
      "Epoch :  10 | Batch :    1420, examples/s:  28.3, loss : 0.09483, time elapsed: 06h45m52s, time left: 05h41m49s\n",
      "Training --- Epoch : 11\n",
      "Epoch :  11 | Batch :     762, examples/s:  28.3, loss : 0.09692, time elapsed: 07h10m07s, time left: 05h20m33s\n"
     ]
    }
   ],
   "source": [
    "t.train()"
   ]
  },
  {
   "cell_type": "code",
   "execution_count": null,
   "metadata": {},
   "outputs": [],
   "source": []
  }
 ],
 "metadata": {
  "kernelspec": {
   "display_name": "Python 3 (ipykernel)",
   "language": "python",
   "name": "python3"
  },
  "language_info": {
   "codemirror_mode": {
    "name": "ipython",
    "version": 3
   },
   "file_extension": ".py",
   "mimetype": "text/x-python",
   "name": "python",
   "nbconvert_exporter": "python",
   "pygments_lexer": "ipython3",
   "version": "3.8.12"
  }
 },
 "nbformat": 4,
 "nbformat_minor": 4
}
