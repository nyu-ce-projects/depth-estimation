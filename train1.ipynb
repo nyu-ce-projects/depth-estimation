{
 "cells": [
  {
   "cell_type": "code",
   "execution_count": 7,
   "metadata": {},
   "outputs": [],
   "source": [
    "# !pip3 install torch torchvision torchaudio --extra-index-url https://download.pytorch.org/whl/cu113"
   ]
  },
  {
   "cell_type": "code",
   "execution_count": 8,
   "metadata": {},
   "outputs": [],
   "source": [
    "# !pip install tensorboardX\n",
    "# !pip install scikit-image"
   ]
  },
  {
   "cell_type": "code",
   "execution_count": 9,
   "metadata": {},
   "outputs": [],
   "source": [
    "import os\n",
    "import time\n",
    "import numpy as np\n",
    "\n",
    "import torch\n",
    "import torch.nn.functional as F\n",
    "import torch.optim as optim\n",
    "from torch.utils.data import DataLoader\n",
    "from tensorboardX import SummaryWriter\n",
    "\n",
    "from Trainer import Trainer\n",
    "\n",
    "from utils import secondsToHM,load_config"
   ]
  },
  {
   "cell_type": "code",
   "execution_count": 10,
   "metadata": {},
   "outputs": [
    {
     "name": "stdout",
     "output_type": "stream",
     "text": [
      "{'GLOBAL_DATAPATH': '/scratch/mp6021/Monodepth2/data/KITTI', 'GLOBAL_BASE_LOG_DIR': './logs', 'GLOBAL_MODEL_PATH': './trained_models', 'MODEL_OPTIONS_LR': '0.0001', 'MODEL_OPTIONS_BATCHSIZE': '24', 'MODEL_OPTIONS_EPOCHS': '20', 'MODEL_OPTIONS_HEIGHT': '192', 'MODEL_OPTIONS_WIDTH': '640', 'MODEL_OPTIONS_FRAME_IDS': '[0,-1,1]', 'MODEL_OPTIONS_SCALES': '[0,1,2,3]', 'MODEL_OPTIONS_LR_SCHEDULER_STEP_SIZE': '15', 'MODEL_OPTIONS_LR_SCHEDULER_DECAY': '0.1'}\n"
     ]
    }
   ],
   "source": [
    "conf = load_config(config_path='configs/model_config.cfg')"
   ]
  },
  {
   "cell_type": "code",
   "execution_count": 11,
   "metadata": {},
   "outputs": [
    {
     "name": "stdout",
     "output_type": "stream",
     "text": [
      "cuda\n"
     ]
    }
   ],
   "source": [
    "t = Trainer()"
   ]
  },
  {
   "cell_type": "code",
   "execution_count": null,
   "metadata": {},
   "outputs": [
    {
     "name": "stdout",
     "output_type": "stream",
     "text": [
      "Total Trainable Parameters : 36867202\n",
      "Total Steps : 33160\n",
      "Training --- Epoch : 0\n",
      "Epoch :   0 | Batch :       0, examples/s:   4.1, loss : 0.14700, time elapsed: 00h00m15s, time left: 00h00m00s\n"
     ]
    }
   ],
   "source": [
    "t.train()"
   ]
  },
  {
   "cell_type": "code",
   "execution_count": null,
   "metadata": {},
   "outputs": [],
   "source": []
  }
 ],
 "metadata": {
  "kernelspec": {
   "display_name": "Python 3",
   "language": "python",
   "name": "python3"
  },
  "language_info": {
   "codemirror_mode": {
    "name": "ipython",
    "version": 3
   },
   "file_extension": ".py",
   "mimetype": "text/x-python",
   "name": "python",
   "nbconvert_exporter": "python",
   "pygments_lexer": "ipython3",
   "version": "3.8.6"
  }
 },
 "nbformat": 4,
 "nbformat_minor": 4
}
