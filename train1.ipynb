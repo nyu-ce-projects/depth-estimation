{
 "cells": [
  {
   "cell_type": "code",
   "execution_count": 1,
   "metadata": {},
   "outputs": [],
   "source": [
    "# !pip3 install torch torchvision torchaudio --extra-index-url https://download.pytorch.org/whl/cu113"
   ]
  },
  {
   "cell_type": "code",
   "execution_count": 2,
   "metadata": {},
   "outputs": [],
   "source": [
    "# !pip install tensorboardX\n",
    "# !pip install scikit-image"
   ]
  },
  {
   "cell_type": "code",
   "execution_count": 3,
   "metadata": {},
   "outputs": [],
   "source": [
    "import os\n",
    "import time\n",
    "import numpy as np\n",
    "\n",
    "import torch\n",
    "import torch.nn.functional as F\n",
    "import torch.optim as optim\n",
    "from torch.utils.data import DataLoader\n",
    "from tensorboardX import SummaryWriter\n",
    "\n",
    "from Trainer import Trainer\n",
    "\n",
    "from utils import secondsToHM,load_config"
   ]
  },
  {
   "cell_type": "code",
   "execution_count": 4,
   "metadata": {},
   "outputs": [
    {
     "name": "stdout",
     "output_type": "stream",
     "text": [
      "{'datapath': '/scratch/mp6021/Monodepth2/data/KITTI', 'base_log_dir': './logs', 'model_path': './trained_models', 'lr': '0.0001', 'batchsize': '24', 'epochs': '20', 'height': '192', 'width': '640', 'frame_ids': '[0,-1,1]', 'numscales': '4', 'lr_scheduler_step_size': '15', 'lr_scheduler_decay': '0.1', 'model_name': 'MASKDEPTH'}\n"
     ]
    }
   ],
   "source": [
    "config = load_config(config_path='configs/model_config.cfg',model_name='MASKDEPTH')"
   ]
  },
  {
   "cell_type": "code",
   "execution_count": 5,
   "metadata": {},
   "outputs": [
    {
     "name": "stdout",
     "output_type": "stream",
     "text": [
      "ak <class 'list'>\n",
      "cuda\n",
      "0.0001\n"
     ]
    },
    {
     "name": "stderr",
     "output_type": "stream",
     "text": [
      "/home/am11533/.local/lib/python3.8/site-packages/torchvision/transforms/transforms.py:332: UserWarning: Argument interpolation should be of type InterpolationMode instead of int. Please, use InterpolationMode enum.\n",
      "  warnings.warn(\n"
     ]
    }
   ],
   "source": [
    "t = Trainer(config)"
   ]
  },
  {
   "cell_type": "code",
   "execution_count": null,
   "metadata": {},
   "outputs": [
    {
     "name": "stdout",
     "output_type": "stream",
     "text": [
      "Total Trainable Parameters : 36867202\n",
      "Total Steps : 33160\n",
      "Training --- Epoch : 0\n"
     ]
    },
    {
     "name": "stderr",
     "output_type": "stream",
     "text": [
      "/home/am11533/.local/lib/python3.8/site-packages/torch/nn/functional.py:4193: UserWarning: Default grid_sample and affine_grid behavior has changed to align_corners=False since 1.3.0. Please specify align_corners=True if the old behavior is desired. See the documentation of grid_sample for details.\n",
      "  warnings.warn(\n"
     ]
    },
    {
     "name": "stdout",
     "output_type": "stream",
     "text": [
      "Epoch :   0 | Batch :       0, examples/s:   2.1, loss : 0.16473, time elapsed: 00h00m21s, time left: 00h00m00s\n",
      "Epoch :   0 | Batch :     200, examples/s:   4.8, loss : 0.13091, time elapsed: 00h17m40s, time left: 48h31m31s\n",
      "Epoch :   0 | Batch :     400, examples/s:   4.8, loss : 0.12813, time elapsed: 00h35m04s, time left: 47h52m44s\n",
      "Epoch :   0 | Batch :     600, examples/s:   4.7, loss : 0.13477, time elapsed: 00h52m28s, time left: 47h27m35s\n"
     ]
    }
   ],
   "source": [
    "t.train()"
   ]
  },
  {
   "cell_type": "code",
   "execution_count": null,
   "metadata": {},
   "outputs": [],
   "source": []
  }
 ],
 "metadata": {
  "kernelspec": {
   "display_name": "Python 3",
   "language": "python",
   "name": "python3"
  },
  "language_info": {
   "codemirror_mode": {
    "name": "ipython",
    "version": 3
   },
   "file_extension": ".py",
   "mimetype": "text/x-python",
   "name": "python",
   "nbconvert_exporter": "python",
   "pygments_lexer": "ipython3",
   "version": "3.8.6"
  }
 },
 "nbformat": 4,
 "nbformat_minor": 4
}
