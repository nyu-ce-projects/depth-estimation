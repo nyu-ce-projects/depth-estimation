{
 "cells": [
  {
   "cell_type": "code",
   "execution_count": 3,
   "metadata": {},
   "outputs": [],
   "source": [
    "# !pip3 install torch torchvision torchaudio --extra-index-url https://download.pytorch.org/whl/cu113"
   ]
  },
  {
   "cell_type": "code",
   "execution_count": 7,
   "metadata": {},
   "outputs": [],
   "source": [
    "# !pip install tensorboardX\n",
    "# !pip install scikit-image"
   ]
  },
  {
   "cell_type": "code",
   "execution_count": 9,
   "metadata": {},
   "outputs": [],
   "source": [
    "import os\n",
    "import time\n",
    "import numpy as np\n",
    "\n",
    "import torch\n",
    "import torch.nn.functional as F\n",
    "import torch.optim as optim\n",
    "from torch.utils.data import DataLoader\n",
    "from tensorboardX import SummaryWriter\n",
    "\n",
    "from Trainer import Trainer\n",
    "\n",
    "from utils import secondsToHM"
   ]
  },
  {
   "cell_type": "code",
   "execution_count": 10,
   "metadata": {},
   "outputs": [
    {
     "name": "stdout",
     "output_type": "stream",
     "text": [
      "cpu\n"
     ]
    },
    {
     "name": "stderr",
     "output_type": "stream",
     "text": [
      "Downloading: \"https://download.pytorch.org/models/resnet50-0676ba61.pth\" to /Users/akashmishra/.cache/torch/hub/checkpoints/resnet50-0676ba61.pth\n",
      "100%|██████████| 97.8M/97.8M [00:05<00:00, 17.3MB/s]\n"
     ]
    },
    {
     "ename": "FileNotFoundError",
     "evalue": "[Errno 2] No such file or directory: '/scratch/mp6021/Monodepth2/data/KITTI/splits/eigen_zhou/train_files.txt'",
     "output_type": "error",
     "traceback": [
      "\u001b[0;31m---------------------------------------------------------------------------\u001b[0m",
      "\u001b[0;31mFileNotFoundError\u001b[0m                         Traceback (most recent call last)",
      "\u001b[1;32m/Users/akashmishra/nyu/iv-processing/monodepth2-improvised/train.ipynb Cell 4'\u001b[0m in \u001b[0;36m<module>\u001b[0;34m\u001b[0m\n\u001b[0;32m----> <a href='vscode-notebook-cell:/Users/akashmishra/nyu/iv-processing/monodepth2-improvised/train.ipynb#ch0000004?line=0'>1</a>\u001b[0m t \u001b[39m=\u001b[39m Trainer()\n",
      "File \u001b[0;32m~/nyu/iv-processing/monodepth2-improvised/Trainer.py:58\u001b[0m, in \u001b[0;36mTrainer.__init__\u001b[0;34m(self, LR, batchSize, epochs, height, width, frameIdxs, scales)\u001b[0m\n\u001b[1;32m     <a href='file:///Users/akashmishra/nyu/iv-processing/monodepth2-improvised/Trainer.py?line=55'>56</a>\u001b[0m \u001b[39mself\u001b[39m\u001b[39m.\u001b[39moptimizer \u001b[39m=\u001b[39m optim\u001b[39m.\u001b[39mAdam(\u001b[39mself\u001b[39m\u001b[39m.\u001b[39mtrainableParameters, lr\u001b[39m=\u001b[39m\u001b[39mself\u001b[39m\u001b[39m.\u001b[39mLR)\n\u001b[1;32m     <a href='file:///Users/akashmishra/nyu/iv-processing/monodepth2-improvised/Trainer.py?line=56'>57</a>\u001b[0m \u001b[39mself\u001b[39m\u001b[39m.\u001b[39mlrScheduler \u001b[39m=\u001b[39m optim\u001b[39m.\u001b[39mlr_scheduler\u001b[39m.\u001b[39mStepLR(\u001b[39mself\u001b[39m\u001b[39m.\u001b[39moptimizer, \u001b[39m15\u001b[39m, \u001b[39m0.1\u001b[39m)\n\u001b[0;32m---> <a href='file:///Users/akashmishra/nyu/iv-processing/monodepth2-improvised/Trainer.py?line=57'>58</a>\u001b[0m \u001b[39mself\u001b[39;49m\u001b[39m.\u001b[39;49mloadDataset()\n\u001b[1;32m     <a href='file:///Users/akashmishra/nyu/iv-processing/monodepth2-improvised/Trainer.py?line=58'>59</a>\u001b[0m \u001b[39mself\u001b[39m\u001b[39m.\u001b[39mdepthMetricNames \u001b[39m=\u001b[39m [\u001b[39m\"\u001b[39m\u001b[39mde/abs_rel\u001b[39m\u001b[39m\"\u001b[39m, \u001b[39m\"\u001b[39m\u001b[39mde/sq_rel\u001b[39m\u001b[39m\"\u001b[39m, \u001b[39m\"\u001b[39m\u001b[39mde/rms\u001b[39m\u001b[39m\"\u001b[39m, \u001b[39m\"\u001b[39m\u001b[39mde/log_rms\u001b[39m\u001b[39m\"\u001b[39m, \u001b[39m\"\u001b[39m\u001b[39mda/a1\u001b[39m\u001b[39m\"\u001b[39m, \u001b[39m\"\u001b[39m\u001b[39mda/a2\u001b[39m\u001b[39m\"\u001b[39m, \u001b[39m\"\u001b[39m\u001b[39mda/a3\u001b[39m\u001b[39m\"\u001b[39m]\n\u001b[1;32m     <a href='file:///Users/akashmishra/nyu/iv-processing/monodepth2-improvised/Trainer.py?line=59'>60</a>\u001b[0m \u001b[39mself\u001b[39m\u001b[39m.\u001b[39mbackprojectDepth \u001b[39m=\u001b[39m {}\n",
      "File \u001b[0;32m~/nyu/iv-processing/monodepth2-improvised/Trainer.py:82\u001b[0m, in \u001b[0;36mTrainer.loadDataset\u001b[0;34m(self)\u001b[0m\n\u001b[1;32m     <a href='file:///Users/akashmishra/nyu/iv-processing/monodepth2-improvised/Trainer.py?line=79'>80</a>\u001b[0m dataPath \u001b[39m=\u001b[39m os\u001b[39m.\u001b[39mpath\u001b[39m.\u001b[39mjoin(\u001b[39m\"\u001b[39m\u001b[39m/scratch/mp6021/Monodepth2\u001b[39m\u001b[39m\"\u001b[39m, \u001b[39m\"\u001b[39m\u001b[39mdata\u001b[39m\u001b[39m\"\u001b[39m, \u001b[39m\"\u001b[39m\u001b[39mKITTI\u001b[39m\u001b[39m\"\u001b[39m)\n\u001b[1;32m     <a href='file:///Users/akashmishra/nyu/iv-processing/monodepth2-improvised/Trainer.py?line=80'>81</a>\u001b[0m filepath \u001b[39m=\u001b[39m os\u001b[39m.\u001b[39mpath\u001b[39m.\u001b[39mjoin(dataPath, \u001b[39m\"\u001b[39m\u001b[39msplits\u001b[39m\u001b[39m\"\u001b[39m, \u001b[39m\"\u001b[39m\u001b[39meigen_zhou\u001b[39m\u001b[39m\"\u001b[39m, \u001b[39m\"\u001b[39m\u001b[39m{}\u001b[39;00m\u001b[39m_files.txt\u001b[39m\u001b[39m\"\u001b[39m)\n\u001b[0;32m---> <a href='file:///Users/akashmishra/nyu/iv-processing/monodepth2-improvised/Trainer.py?line=81'>82</a>\u001b[0m trainFilenames \u001b[39m=\u001b[39m \u001b[39mself\u001b[39;49m\u001b[39m.\u001b[39;49mreadlines(filepath\u001b[39m.\u001b[39;49mformat(\u001b[39m\"\u001b[39;49m\u001b[39mtrain\u001b[39;49m\u001b[39m\"\u001b[39;49m))\n\u001b[1;32m     <a href='file:///Users/akashmishra/nyu/iv-processing/monodepth2-improvised/Trainer.py?line=82'>83</a>\u001b[0m valFilenames \u001b[39m=\u001b[39m \u001b[39mself\u001b[39m\u001b[39m.\u001b[39mreadlines(filepath\u001b[39m.\u001b[39mformat(\u001b[39m\"\u001b[39m\u001b[39mval\u001b[39m\u001b[39m\"\u001b[39m))\n\u001b[1;32m     <a href='file:///Users/akashmishra/nyu/iv-processing/monodepth2-improvised/Trainer.py?line=83'>84</a>\u001b[0m numTrain \u001b[39m=\u001b[39m \u001b[39mlen\u001b[39m(trainFilenames)\n",
      "File \u001b[0;32m~/nyu/iv-processing/monodepth2-improvised/Trainer.py:74\u001b[0m, in \u001b[0;36mTrainer.readlines\u001b[0;34m(self, path)\u001b[0m\n\u001b[1;32m     <a href='file:///Users/akashmishra/nyu/iv-processing/monodepth2-improvised/Trainer.py?line=72'>73</a>\u001b[0m \u001b[39mdef\u001b[39;00m \u001b[39mreadlines\u001b[39m(\u001b[39mself\u001b[39m, path):\n\u001b[0;32m---> <a href='file:///Users/akashmishra/nyu/iv-processing/monodepth2-improvised/Trainer.py?line=73'>74</a>\u001b[0m     \u001b[39mwith\u001b[39;00m \u001b[39mopen\u001b[39;49m(path, \u001b[39m\"\u001b[39;49m\u001b[39mr\u001b[39;49m\u001b[39m\"\u001b[39;49m) \u001b[39mas\u001b[39;00m f:\n\u001b[1;32m     <a href='file:///Users/akashmishra/nyu/iv-processing/monodepth2-improvised/Trainer.py?line=74'>75</a>\u001b[0m         lines \u001b[39m=\u001b[39m f\u001b[39m.\u001b[39mread()\u001b[39m.\u001b[39msplitlines()\n\u001b[1;32m     <a href='file:///Users/akashmishra/nyu/iv-processing/monodepth2-improvised/Trainer.py?line=75'>76</a>\u001b[0m     \u001b[39mreturn\u001b[39;00m lines\n",
      "\u001b[0;31mFileNotFoundError\u001b[0m: [Errno 2] No such file or directory: '/scratch/mp6021/Monodepth2/data/KITTI/splits/eigen_zhou/train_files.txt'"
     ]
    }
   ],
   "source": [
    "t = Trainer()"
   ]
  },
  {
   "cell_type": "code",
   "execution_count": null,
   "metadata": {},
   "outputs": [],
   "source": [
    "t.train()"
   ]
  },
  {
   "cell_type": "code",
   "execution_count": null,
   "metadata": {},
   "outputs": [],
   "source": []
  }
 ],
 "metadata": {
  "kernelspec": {
   "display_name": "Python 3 (ipykernel)",
   "language": "python",
   "name": "python3"
  },
  "language_info": {
   "codemirror_mode": {
    "name": "ipython",
    "version": 3
   },
   "file_extension": ".py",
   "mimetype": "text/x-python",
   "name": "python",
   "nbconvert_exporter": "python",
   "pygments_lexer": "ipython3",
   "version": "3.8.13"
  }
 },
 "nbformat": 4,
 "nbformat_minor": 4
}
