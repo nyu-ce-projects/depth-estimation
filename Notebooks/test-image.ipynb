{
 "cells": [
  {
   "cell_type": "code",
   "execution_count": 1,
   "metadata": {},
   "outputs": [],
   "source": [
    "import os\n",
    "import torch\n",
    "import PIL.Image as pil\n",
    "from torchvision import transforms\n",
    "from Models.EncoderModel import EncoderModelConvNeXt\n",
    "from Models.DecoderModel import DepthDecoderModel, PoseDecoderModel\n",
    "\n",
    "from Trainers.Trainer import getTrainer\n",
    "\n",
    "from configs.config_loader import load_config"
   ]
  },
  {
   "cell_type": "code",
   "execution_count": 5,
   "metadata": {},
   "outputs": [],
   "source": [
    "device = torch.device(\"cuda\" if torch.cuda.is_available() else \"cpu\")"
   ]
  },
  {
   "cell_type": "code",
   "execution_count": 6,
   "metadata": {},
   "outputs": [],
   "source": [
    "model_name = 'MASKCAMLESS_ESPCN_WEATHER'\n",
    "weight_name = 'weights_11'\n",
    "path = os.path.join(\"trained_models\",model_name, weight_name)"
   ]
  },
  {
   "cell_type": "code",
   "execution_count": null,
   "metadata": {},
   "outputs": [],
   "source": [
    "# enc = EncoderModelConvNeXt()\n",
    "config = load_config(config_path='configs/model_config.cfg',model_name=model_name)\n",
    "net = getTrainer(config)\n",
    "encoderDict = torch.load(os.path.join(path, \"encoder.pth\"), map_location=device)\n",
    "height = encoderDict.pop(\"height\")\n",
    "width = encoderDict.pop(\"width\")\n",
    "net.models[\"encoder\"].load_state_dict(encoderDict)\n"
   ]
  },
  {
   "cell_type": "code",
   "execution_count": null,
   "metadata": {},
   "outputs": [],
   "source": [
    "net.models[\"decoder\"].load_state_dict(torch.load(os.path.join(path, \"decoder.pth\"), map_location=device))"
   ]
  },
  {
   "cell_type": "code",
   "execution_count": null,
   "metadata": {},
   "outputs": [],
   "source": [
    "net.setEval()"
   ]
  },
  {
   "cell_type": "code",
   "execution_count": 9,
   "metadata": {},
   "outputs": [],
   "source": [
    "imgPath = \"./external_img/snow_image.jpg\"\n",
    "img = pil.open(imgPath).convert('RGB')\n",
    "original_width, original_height = img.size\n",
    "img = img.resize((width, height), pil.LANCZOS)\n",
    "imgTensor = transforms.ToTensor()(img).unsqueeze(0)\n",
    "imgTensor = imgTensor.to(device)"
   ]
  },
  {
   "cell_type": "code",
   "execution_count": 10,
   "metadata": {},
   "outputs": [],
   "source": [
    "import matplotlib as mpl\n",
    "import matplotlib.cm as cm\n",
    "import numpy as np"
   ]
  },
  {
   "cell_type": "code",
   "execution_count": 11,
   "metadata": {},
   "outputs": [],
   "source": [
    "with torch.no_grad():\n",
    "    features = net.models[\"encoder\"](imgTensor)\n",
    "    outputs = net.models[\"decoder\"](features)\n",
    "    disp = outputs[(\"disp\", 0)]\n",
    "    disp_resized = torch.nn.functional.interpolate(\n",
    "                    disp, (original_height, original_width), mode=\"bilinear\", align_corners=False)\n",
    "    disp_resized_np = disp_resized.squeeze().cpu().numpy()\n",
    "    vmax = np.percentile(disp_resized_np, 95)\n",
    "    normalizer = mpl.colors.Normalize(vmin=disp_resized_np.min(), vmax=vmax)\n",
    "    mapper = cm.ScalarMappable(norm=normalizer, cmap='magma')\n",
    "    colormapped_im = (mapper.to_rgba(disp_resized_np)[:, :, :3] * 255).astype(np.uint8)\n",
    "    im = pil.fromarray(colormapped_im)"
   ]
  },
  {
   "cell_type": "code",
   "execution_count": 13,
   "metadata": {},
   "outputs": [],
   "source": [
    "im.save(\"/scratch/mp6021/monodepth2/assets/WSP-2UP4_ConvNext_ESPCN.jpeg\")"
   ]
  },
  {
   "cell_type": "code",
   "execution_count": null,
   "metadata": {},
   "outputs": [],
   "source": []
  }
 ],
 "metadata": {
  "kernelspec": {
   "display_name": "Python 3 (ipykernel)",
   "language": "python",
   "name": "python3"
  },
  "language_info": {
   "codemirror_mode": {
    "name": "ipython",
    "version": 3
   },
   "file_extension": ".py",
   "mimetype": "text/x-python",
   "name": "python",
   "nbconvert_exporter": "python",
   "pygments_lexer": "ipython3",
   "version": "3.8.6"
  }
 },
 "nbformat": 4,
 "nbformat_minor": 4
}
